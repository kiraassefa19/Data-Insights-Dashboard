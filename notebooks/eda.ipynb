{
 "cells": [
  {
   "cell_type": "code",
   "execution_count": 21,
   "metadata": {},
   "outputs": [],
   "source": [
    "import pandas as pd\n",
    "import nbformat\n",
    "import plotly.express as px\n",
    "from sqlalchemy import create_engine\n",
    "import urllib.parse"
   ]
  },
  {
   "cell_type": "code",
   "execution_count": 13,
   "metadata": {},
   "outputs": [],
   "source": [
    "# Database Configuration\n",
    "DB_USERNAME = \"postgres\"\n",
    "DB_PASSWORD = \"Root@123\"\n",
    "DB_HOST = \"localhost\"\n",
    "DB_PORT = \"5432\"\n",
    "DB_NAME = \"insights\"\n",
    "\n",
    "# Encode username and password\n",
    "encoded_username = urllib.parse.quote_plus(DB_USERNAME)\n",
    "encoded_password = urllib.parse.quote_plus(DB_PASSWORD)\n",
    "\n",
    "# PostgreSQL connection URL\n",
    "DB_URL = (\n",
    "    f\"postgresql://{encoded_username}:{encoded_password}@{DB_HOST}:{DB_PORT}/{DB_NAME}\"\n",
    ")\n",
    "\n",
    "# Create SQLAlchemy engine\n",
    "engine = create_engine(DB_URL)"
   ]
  },
  {
   "cell_type": "code",
   "execution_count": 18,
   "metadata": {},
   "outputs": [
    {
     "name": "stdout",
     "output_type": "stream",
     "text": [
      "Apollo Reviews Summary:\n",
      "                 👍                             at       score\n",
      "count  100.000000                            100  100.000000\n",
      "mean     9.160000  2023-11-09 06:06:40.990000128    3.530000\n",
      "min      0.000000            2023-10-09 10:44:00    1.000000\n",
      "25%      0.000000  2023-10-25 18:18:54.750000128    1.750000\n",
      "50%      0.000000            2023-11-09 18:23:58    5.000000\n",
      "75%      1.000000  2023-11-25 15:13:10.249999872    5.000000\n",
      "max    374.000000            2023-12-05 14:47:40    5.000000\n",
      "std     45.394504                            NaN    1.720083\n",
      "Banks Ad Data Summary:\n",
      "                 View\n",
      "count      21.000000\n",
      "mean   226880.952381\n",
      "std     39312.524964\n",
      "min    129400.000000\n",
      "25%    212300.000000\n",
      "50%    232100.000000\n",
      "75%    255900.000000\n",
      "max    299100.000000\n"
     ]
    }
   ],
   "source": [
    "# Load Apollo android review data\n",
    "apollo_reviews = pd.read_sql(\"SELECT * FROM apollo_android_review_data\", engine)\n",
    "\n",
    "# Load Banks ad data\n",
    "banks_ad_data = pd.read_sql(\"SELECT * FROM banks_ad_data\", engine)\n",
    "\n",
    "# Summarize Apollo reviews data\n",
    "apollo_summary = apollo_reviews.describe()\n",
    "print(\"Apollo Reviews Summary:\\n\", apollo_summary)\n",
    "\n",
    "# Summarize Banks ad data\n",
    "banks_ad_summary = banks_ad_data.describe()\n",
    "print(\"Banks Ad Data Summary:\\n\", banks_ad_summary)"
   ]
  },
  {
   "cell_type": "code",
   "execution_count": 30,
   "metadata": {},
   "outputs": [
    {
     "name": "stdout",
     "output_type": "stream",
     "text": [
      "Index(['reviewId', 'userName', 'userImage', '👍', 'reviewCreatedVersion', 'at',\n",
      "       'replyContent', 'repliedAt', 'appVersion', 'score', 'Comments',\n",
      "       'Keywords', 'LDA_Category', 'Sentiment', 'Insight'],\n",
      "      dtype='object')\n",
      "Index(['Date', 'Post link', 'View', 'Post Hour', 'Bank', 'Time of day'], dtype='object')\n"
     ]
    }
   ],
   "source": [
    "print(apollo_reviews.columns)\n",
    "print(banks_ad_data.columns)"
   ]
  },
  {
   "cell_type": "code",
   "execution_count": 33,
   "metadata": {},
   "outputs": [],
   "source": [
    "# Plot Apollo reviews rating distribution\n",
    "fig1 = px.histogram(\n",
    "    apollo_reviews, x=\"score\", title=\"Apollo Android Reviews Rating Distribution\"\n",
    ")\n",
    "\n",
    "# Save the plot as an HTML file (nbformat isn't working)\n",
    "fig1.write_html(\"apollo_reviews_rating_distribution.html\")"
   ]
  },
  {
   "cell_type": "code",
   "execution_count": 38,
   "metadata": {},
   "outputs": [],
   "source": [
    "# Plot Banks ad performance over time\n",
    "fig2 = px.line(\n",
    "    banks_ad_data,\n",
    "    x=\"Date\",\n",
    "    y=\"View\",\n",
    "    color=\"Bank\",\n",
    "    title=\"Banks Ad Performance Over Time\",\n",
    ")\n",
    "\n",
    "# Save the plot as an HTML file (nbformat isn't working)\n",
    "fig2.write_html(\"banks_ad_performance_over_time.html\")"
   ]
  }
 ],
 "metadata": {
  "kernelspec": {
   "display_name": "myvenv",
   "language": "python",
   "name": "python3"
  },
  "language_info": {
   "codemirror_mode": {
    "name": "ipython",
    "version": 3
   },
   "file_extension": ".py",
   "mimetype": "text/x-python",
   "name": "python",
   "nbconvert_exporter": "python",
   "pygments_lexer": "ipython3",
   "version": "3.12.3"
  }
 },
 "nbformat": 4,
 "nbformat_minor": 2
}
